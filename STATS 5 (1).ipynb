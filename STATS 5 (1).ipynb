{
 "cells": [
  {
   "cell_type": "code",
   "execution_count": 1,
   "id": "0b4afb04-a3f1-42d1-8494-d4b9306456ba",
   "metadata": {},
   "outputs": [
    {
     "name": "stdout",
     "output_type": "stream",
     "text": [
      "95% Confidence Interval: (48.210805856282846, 51.789194143717154)\n"
     ]
    }
   ],
   "source": [
    "# QUES.1 Calculate the 95% confidence interval for a sample of data with a mean of 50 and a standard deviation\n",
    "# of 5 using Python. Interpret the results.\n",
    "# ANSWER \n",
    "import scipy.stats as stats\n",
    "import math\n",
    "\n",
    "# Given data\n",
    "mean = 50\n",
    "std_dev = 5\n",
    "sample_size = 30\n",
    "confidence_level = 0.95\n",
    "\n",
    "# Calculate the z-score for the 95% confidence level\n",
    "z = stats.norm.ppf((1 + confidence_level) / 2)\n",
    "\n",
    "# Calculate the margin of error\n",
    "margin_of_error = z * (std_dev / math.sqrt(sample_size))\n",
    "\n",
    "# Calculate the confidence interval\n",
    "confidence_interval = (mean - margin_of_error, mean + margin_of_error)\n",
    "\n",
    "print(\"95% Confidence Interval:\", confidence_interval)\n"
   ]
  },
  {
   "cell_type": "code",
   "execution_count": null,
   "id": "f9f6009e-ca5e-4aed-92a4-522d77db6196",
   "metadata": {},
   "outputs": [],
   "source": []
  },
  {
   "cell_type": "code",
   "execution_count": 2,
   "id": "6b3ad042-ff21-42e7-8819-0eda819b87d8",
   "metadata": {},
   "outputs": [
    {
     "name": "stdout",
     "output_type": "stream",
     "text": [
      "Chi-square Statistic: 1.3\n",
      "P-value: 0.9349316790937376\n",
      "Fail to reject the null hypothesis - The distribution of M&Ms colors matches the expected distribution.\n"
     ]
    }
   ],
   "source": [
    "# QUES.2 Conduct a chi-square goodness of fit test to determine if the distribution of colors of M&Ms in a bag\n",
    "# matches the expected distribution of 20% blue, 20% orange, 20% green, 10% yellow, 10% red, and 20%\n",
    "# brown. Use Python to perform the test with a significance level of 0.05.\n",
    "# ANSWER \n",
    "import scipy.stats as stats\n",
    "import numpy as np\n",
    "\n",
    "# Observed frequencies\n",
    "observed = np.array([18, 22, 19, 10, 8, 23])\n",
    "\n",
    "# Expected frequencies (total counts * expected proportions)\n",
    "total_m_and_ms = observed.sum()\n",
    "expected_proportions = np.array([0.20, 0.20, 0.20, 0.10, 0.10, 0.20])\n",
    "expected = total_m_and_ms * expected_proportions\n",
    "\n",
    "# Perform chi-square goodness of fit test\n",
    "chi2_stat, p_value = stats.chisquare(observed, expected)\n",
    "\n",
    "# Significance level\n",
    "alpha = 0.05\n",
    "\n",
    "print(f\"Chi-square Statistic: {chi2_stat}\")\n",
    "print(f\"P-value: {p_value}\")\n",
    "\n",
    "if p_value < alpha:\n",
    "    print(\"Reject the null hypothesis - The distribution of M&Ms colors does not match the expected distribution.\")\n",
    "else:\n",
    "    print(\"Fail to reject the null hypothesis - The distribution of M&Ms colors matches the expected distribution.\")\n"
   ]
  },
  {
   "cell_type": "code",
   "execution_count": null,
   "id": "afa9b636-dd84-4e0a-9807-d6120bb69652",
   "metadata": {},
   "outputs": [],
   "source": []
  },
  {
   "cell_type": "code",
   "execution_count": 3,
   "id": "e0ef3558-f807-4bd2-bd69-85d4375f5d9f",
   "metadata": {},
   "outputs": [
    {
     "name": "stdout",
     "output_type": "stream",
     "text": [
      "Chi-square statistic: 5.833333333333334\n",
      "P-value: 0.05411376622282158\n",
      "Degrees of freedom: 2\n",
      "Expected frequencies:\n",
      "[[15. 20.]\n",
      " [15. 20.]\n",
      " [15. 20.]]\n"
     ]
    }
   ],
   "source": [
    "# QUES.3 Use Python to calculate the chi-square statistic and p-value for a contingency table with the following\n",
    "# data:   Group A   Group B \n",
    "\n",
    "# Outcome 1    20      15\n",
    "# Outcome 2    10      25\n",
    "# Outcome 3    15      20\n",
    "# Interpret the results of the test.\n",
    "# ANSWER \n",
    "import numpy as np\n",
    "from scipy.stats import chi2_contingency\n",
    "\n",
    "# Define the contingency table\n",
    "data = np.array([[20, 15],\n",
    "                 [10, 25],\n",
    "                 [15, 20]])\n",
    "\n",
    "# Perform the chi-square test\n",
    "chi2, p, dof, expected = chi2_contingency(data)\n",
    "\n",
    "# Output the results\n",
    "print(f\"Chi-square statistic: {chi2}\")\n",
    "print(f\"P-value: {p}\")\n",
    "print(f\"Degrees of freedom: {dof}\")\n",
    "print(\"Expected frequencies:\")\n",
    "print(expected)\n"
   ]
  },
  {
   "cell_type": "code",
   "execution_count": null,
   "id": "39e43385-c26d-40b5-a1c9-da5d7bfb898c",
   "metadata": {},
   "outputs": [],
   "source": []
  },
  {
   "cell_type": "code",
   "execution_count": 4,
   "id": "b4a568fa-979d-47d6-9708-df08a7eccc14",
   "metadata": {},
   "outputs": [
    {
     "name": "stdout",
     "output_type": "stream",
     "text": [
      "The 95% confidence interval for the true proportion of individuals who smoke is: (0.0915, 0.1485)\n"
     ]
    }
   ],
   "source": [
    "# QUES.4 A study of the prevalence of smoking in a population of 500 individuals found that 60 individuals\n",
    "# smoked. Use Python to calculate the 95% confidence interval for the true proportion of individuals in the\n",
    "# population who smoke.\n",
    "# ANSWER \n",
    "import math\n",
    "\n",
    "# Given data\n",
    "n = 500  # total number of individuals\n",
    "x = 60   # number of individuals who smoke\n",
    "\n",
    "# Sample proportion\n",
    "p = x / n\n",
    "\n",
    "# Z-score for 95% confidence level\n",
    "Z = 1.96\n",
    "\n",
    "# Standard error\n",
    "SE = math.sqrt((p * (1 - p)) / n)\n",
    "\n",
    "# Margin of error\n",
    "margin_of_error = Z * SE\n",
    "\n",
    "# Confidence interval\n",
    "CI_lower = p - margin_of_error\n",
    "CI_upper = p + margin_of_error\n",
    "\n",
    "# Print the results\n",
    "print(f\"The 95% confidence interval for the true proportion of individuals who smoke is: ({CI_lower:.4f}, {CI_upper:.4f})\")\n"
   ]
  },
  {
   "cell_type": "code",
   "execution_count": null,
   "id": "a598b85d-893e-4e6d-be89-2576c441e5cf",
   "metadata": {},
   "outputs": [],
   "source": []
  },
  {
   "cell_type": "code",
   "execution_count": 5,
   "id": "03fe1672-2a30-430c-9668-de32a98bb548",
   "metadata": {},
   "outputs": [
    {
     "name": "stdout",
     "output_type": "stream",
     "text": [
      "The 90% confidence interval is: (71.39630625889797, 78.60369374110203)\n"
     ]
    }
   ],
   "source": [
    "# QUES.5 Calculate the 90% confidence interval for a sample of data with a mean of 75 and a standard deviation\n",
    "# of 12 using Python. Interpret the results.\n",
    "# ANSWER \n",
    "import scipy.stats as stats\n",
    "import math\n",
    "\n",
    "# Given data\n",
    "mean = 75\n",
    "std_dev = 12\n",
    "sample_size = 30  # Assuming a sample size of 30; if the sample size is different, adjust accordingly.\n",
    "\n",
    "# Calculate the standard error of the mean (SEM)\n",
    "sem = std_dev / math.sqrt(sample_size)\n",
    "\n",
    "# Determine the z-score for a 90% confidence level\n",
    "confidence_level = 0.90\n",
    "z_score = stats.norm.ppf((1 + confidence_level) / 2)\n",
    "\n",
    "# Calculate the margin of error\n",
    "margin_of_error = z_score * sem\n",
    "\n",
    "# Calculate the confidence interval\n",
    "confidence_interval = (mean - margin_of_error, mean + margin_of_error)\n",
    "\n",
    "print(f\"The 90% confidence interval is: {confidence_interval}\")\n",
    "\n",
    "# Interpretation\n",
    "# * Mean (Sample Mean): The sample mean is 75.\n",
    "# * Standard Deviation: The standard deviation of the sample is 12.\n",
    "# * Sample Size: For this example, I have assumed a sample size of 30. The sample size impacts the standard error of the mean.\n",
    "# * Confidence Level: We are calculating the 90% confidence interval.\n",
    "# The output of the Python code will provide a range, say (71.83, 78.17). This means that we are 90% confident that the \n",
    "# true population mean lies within this interval."
   ]
  },
  {
   "cell_type": "code",
   "execution_count": null,
   "id": "aaed833c-25fb-4fad-aee3-58972cafeb39",
   "metadata": {},
   "outputs": [],
   "source": []
  },
  {
   "cell_type": "code",
   "execution_count": 6,
   "id": "4b5cd61e-3b1f-4396-a9ba-b05a48265098",
   "metadata": {},
   "outputs": [
    {
     "data": {
      "image/png": "[encoded data removed]",
      "text/plain": [
       "<Figure size 640x480 with 1 Axes>"
      ]
     },
     "metadata": {},
     "output_type": "display_data"
    }
   ],
   "source": [
    "# QUES.6 Use Python to plot the chi-square distribution with 10 degrees of freedom. Label the axes and shade the\n",
    "# area corresponding to a chi-square statistic of 15.\n",
    "# ANSWER \n",
    "import numpy as np\n",
    "import matplotlib.pyplot as plt\n",
    "from scipy.stats import chi2\n",
    "\n",
    "# Parameters\n",
    "df = 10\n",
    "chi2_stat = 15\n",
    "\n",
    "# Generate x values\n",
    "x = np.linspace(0, 30, 1000)\n",
    "\n",
    "# Chi-square distribution with 10 degrees of freedom\n",
    "y = chi2.pdf(x, df)\n",
    "\n",
    "# Plot the chi-square distribution\n",
    "plt.plot(x, y, label=f'Chi-square distribution (df={df})')\n",
    "\n",
    "# Shade the area corresponding to the chi-square statistic of 15\n",
    "x_shade = np.linspace(chi2_stat, 30, 1000)\n",
    "y_shade = chi2.pdf(x_shade, df)\n",
    "plt.fill_between(x_shade, y_shade, alpha=0.5, color='lightblue', label=f'P(X > {chi2_stat})')\n",
    "\n",
    "# Labels and title\n",
    "plt.xlabel('Chi-square statistic')\n",
    "plt.ylabel('Probability density')\n",
    "plt.title(f'Chi-square Distribution with {df} Degrees of Freedom')\n",
    "plt.legend()\n",
    "\n",
    "# Show plot\n",
    "plt.grid(True)\n",
    "plt.show()\n"
   ]
  },
  {
   "cell_type": "code",
   "execution_count": null,
   "id": "05389ae4-f67c-41d8-bd2a-372729fed8a7",
   "metadata": {},
   "outputs": [],
   "source": []
  },
  {
   "cell_type": "code",
   "execution_count": 1,
   "id": "49b057d6-2877-42e3-b082-eefb3cee079c",
   "metadata": {},
   "outputs": [],
   "source": [
    "# QUES.7 A random sample of 1000 people was asked if they preferred Coke or Pepsi. Of the sample, 520\n",
    "# preferred Coke. Calculate a 99% confidence interval for the true proportion of people in the population who\n",
    "# prefer Coke.\n",
    "# ANSWER To calculate a 99% confidence interval for the true proportion of people in the population who prefer Coke, we can \n",
    "# follow these steps:\n",
    "\n",
    "# 1.Determine the sample proportion (𝑝^): \n",
    "#                     𝑝^ = Number of people who prefer Coke/Total sample size = 520/1000 = 0.52\n",
    "# 2.Determine the standard error (SE) of the sample proportion:        \n",
    "#                     SE = √𝑝^(1-𝑝^)/n =   √0.52 *(1-0.52)/1000 =  √0.52 * 0.48/1000 = √0.2496/1000 = √0.0002\n",
    "\n",
    "# 3.Find the critical value for a 99% confidence interval:\n",
    "# The critical value \n",
    "# 𝑧\n",
    "# z for a 99% confidence interval can be found using the standard normal distribution. For a 99% confidence interval, the \n",
    "# critical value 𝑧\n",
    "# z is approximately 2.576 (you can find this value from standard normal (Z) tables or using statistical software). \n",
    "# 4.Calculate the margin of error (ME):\n",
    "\n",
    "# 𝑀𝐸=𝑧×𝑆𝐸=2.576×0.0158≈0.0407\n",
    "# Calculate the confidence interval:\n",
    "\n",
    "\n",
    "# Lower limit= p^−ME=0.52−0.0407≈0.4793\n",
    "# Upper limit=𝑝^+𝑀𝐸=0.52+0.0407≈0.5607\n",
    "# Thus, the 99% confidence interval for the true proportion of people in the population who prefer Coke is approximately \n",
    "\n",
    "# (0.4793,0.5607).\n",
    "\n",
    "# This means we are 99% confident that the true proportion of people who prefer Coke is between 47.93% and 56.07%."
   ]
  },
  {
   "cell_type": "code",
   "execution_count": null,
   "id": "d2119698-2b63-4705-bb67-d58eade240f7",
   "metadata": {},
   "outputs": [],
   "source": []
  },
  {
   "cell_type": "code",
   "execution_count": 1,
   "id": "5ce5ea6f-0d2d-442f-a30c-2c40666bb37b",
   "metadata": {},
   "outputs": [],
   "source": [
    "# QUES.8 A researcher hypothesizes that a coin is biased towards tails. They flip the coin 100 times and observe\n",
    "# 45 tails. Conduct a chi-square goodness of fit test to determine if the observed frequencies match the\n",
    "# expected frequencies of a fair coin. Use a significance level of 0.05.\n",
    "# ANSWER \n",
    "\n",
    "# Step 1: State the Hypotheses\n",
    "# Null hypothesis (𝐻0): The coin is fair, meaning the probability of heads (P(H)) and P(T)) are both 0.5.\n",
    "# Alternative hypothesis (𝐻1): The coin is biased towards tails, meaning the probability of tails (P(T)) is greater than 0.5.\n",
    "\n",
    "#Step 2: Determine the Expected Frequencies\n",
    "# If the coin is fair, we expect:\n",
    "\n",
    "# 50 heads in 100 flips (𝐸𝐻==0.5×100=50)\n",
    "# 50 tails in 100 flips (𝐸𝑇=0.5×100=50)\n",
    "\n",
    "# 3.Calculate the observed frequencies:\n",
    "\n",
    "# Observed frequency of heads (OH): 100−45=55\n",
    "# Observed frequency of tails (OT): 45\n",
    "\n",
    "# 4.Compute the chi-square statistic:\n",
    "# The chi-square statistic is calculated using the formula : χ2 = ∑(Oi−Ei)2/Ei\n",
    "\n",
    "# where Oi are the observed frequencies and Ei are the expected frequencies.\n",
    "\n",
    "# Substituting in the observed and expected frequencies:\n",
    "#   χ2 = (55−50)2 / 50 + (45−50)2 / 50 \n",
    "#   χ2 = 0.5+0.5=1.0\n",
    "\n",
    "# 5.Determine the degrees of freedom:\n",
    "# Degrees of freedom (df) for a chi-square goodness of fit test is calculated as:\n",
    "#    df=number of categories−1\n",
    "# Since there are 2 categories (heads and tails):\n",
    "#    df=2−1=1\n",
    "\n",
    "# 6. Find the critical value:\n",
    "# Using a chi-square distribution table or calculator with df=1 and a significance level (α) of 0.05:\n",
    "#     χcritical2=3.841\n",
    "    \n",
    "# 7. Compare the chi-square statistic to the critical value:\n",
    "#     χ2=1.0<3.841  \n",
    "\n",
    "# 8. Make a decision:\n",
    "# Since the chi-square statistic (1.0) is less than the critical value (3.841), we fail to reject the null hypothesis.\n",
    "\n",
    "# Conclusion: There is not enough evidence at the 0.05 significance level to conclude that the coin is biased towards tails.\n",
    "# The observed frequencies do not significantly differ from the expected frequencies of a fair coin."
   ]
  },
  {
   "cell_type": "code",
   "execution_count": null,
   "id": "defc7746-1f7b-4553-98ac-83314724375b",
   "metadata": {},
   "outputs": [],
   "source": []
  },
  {
   "cell_type": "code",
   "execution_count": 2,
   "id": "5624cc58-e7cd-4f9d-aad2-f7c316943a71",
   "metadata": {},
   "outputs": [],
   "source": [
    "# QUES.9 A random sample of 30 people was selected from a population with an unknown mean and standard\n",
    "# deviation. The sample mean was found to be 72 and the sample standard deviation was found to be 10.\n",
    "# Conduct a hypothesis test to determine if the population mean is significantly different from 70. Use a\n",
    "# significance level of 0.05.\n",
    "# ANSWE \n",
    "# 1. State the hypotheses:\n",
    "\n",
    "# Null hypothesis (H0):μ=70\n",
    "# Alternative hypothesis (H1):μ ≠ 70\n",
    "\n",
    "# 2. Set the significance level (α): α=0.05\n",
    "\n",
    "# 3. Calculate the test statistic:\n",
    "\n",
    "# The formula for the test statistic (t) is: t= ˉx −μ0 / s / √n\n",
    "#  Plugging in the values: t = 72−70 / 10/ 30 = 1.0954\n",
    "\n",
    "# 4. Determine the degrees of freedom:\n",
    "\n",
    "# df=n−1=30−1=29\n",
    "\n",
    "# 5. Find the critical t-value for a two-tailed test at α=0.05 and df=29:\n",
    "\n",
    "# Using a t-distribution table or a calculator, the critical t-value for df=29 at α=0.05 (two-tailed) is approximately ±2.045.\n",
    "\n",
    "# 6.Make the decision:\n",
    "\n",
    "# Compare the calculated t-value (1.0954) to the critical t-values (±2.045).\n",
    "# Since 1.0954 is within the range −2.045 to 2.045, we fail to reject the null hypothesis.\n",
    "\n",
    "# 7.Conclusion:\n",
    "# There is not enough evidence to conclude that the population mean is significantly different from 70 at the 0.05 \n",
    "# significance level.\n",
    "# Summary\n",
    "# Based on the t-test, we fail to reject the null hypothesis. Therefore, we do not have sufficient evidence to say that the \n",
    "# population mean is significantly different from 70 at the 0.05 significance level.\n"
   ]
  },
  {
   "cell_type": "code",
   "execution_count": null,
   "id": "d87af9c0-32d0-4604-8ba0-761f9a481428",
   "metadata": {},
   "outputs": [],
   "source": []
  },
  {
   "cell_type": "code",
   "execution_count": null,
   "id": "a91f7869-fbef-4602-ab59-af060c278693",
   "metadata": {},
   "outputs": [],
   "source": []
  }
 ],
 "metadata": {
  "kernelspec": {
   "display_name": "Python 3 (ipykernel)",
   "language": "python",
   "name": "python3"
  },
  "language_info": {
   "codemirror_mode": {
    "name": "ipython",
    "version": 3
   },
   "file_extension": ".py",
   "mimetype": "text/x-python",
   "name": "python",
   "nbconvert_exporter": "python",
   "pygments_lexer": "ipython3",
   "version": "3.10.8"
  }
 },
 "nbformat": 4,
 "nbformat_minor": 5
}
